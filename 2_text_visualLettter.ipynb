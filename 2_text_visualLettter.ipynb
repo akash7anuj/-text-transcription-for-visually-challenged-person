{
 "cells": [
  {
   "cell_type": "code",
   "execution_count": 2,
   "metadata": {},
   "outputs": [
    {
     "name": "stdout",
     "output_type": "stream",
     "text": [
      "Conversion complete! Braille text saved to: braille_output.txt\n"
     ]
    }
   ],
   "source": [
    "import re\n",
    "\n",
    "# Braille Unicode character mapping\n",
    "braille_alphabet = {\n",
    "    'a': '⠁', 'b': '⠃', 'c': '⠉', 'd': '⠙', 'e': '⠑', 'f': '⠋', 'g': '⠛', 'h': '⠓', \n",
    "    'i': '⠊', 'j': '⠚', 'k': '⠅', 'l': '⠇', 'm': '⠍', 'n': '⠝', 'o': '⠕', 'p': '⠏', \n",
    "    'q': '⠟', 'r': '⠗', 's': '⠎', 't': '⠞', 'u': '⠥', 'v': '⠧', 'w': '⠺', 'x': '⠭', \n",
    "    'y': '⠽', 'z': '⠵', '1': '⠁', '2': '⠃', '3': '⠉', '4': '⠙', '5': '⠑', '6': '⠋', \n",
    "    '7': '⠛', '8': '⠓', '9': '⠊', '0': '⠚', ' ': ' ', ',': '⠂', '.': '⠲', '?': '⠦', \n",
    "    '!': '⠮', ':': '⠰', ';': '⠱', '-': '⠤', '\"': '⠦', \"'\": '⠄'\n",
    "}\n",
    "\n",
    "def convert_to_braille(text):\n",
    "    \"\"\"\n",
    "    Converts the given text to Braille using Unicode Braille patterns.\n",
    "    \"\"\"\n",
    "    braille_text = ''\n",
    "    for char in text.lower():\n",
    "        braille_text += braille_alphabet.get(char, '')  # Get Braille character or skip if not found\n",
    "    return braille_text\n",
    "\n",
    "def process_srt_file(file_path):\n",
    "    \"\"\"\n",
    "    Processes the SRT file, extracts the text and converts it to Braille.\n",
    "    \"\"\"\n",
    "    with open(file_path, 'r', encoding='utf-8') as file:\n",
    "        content = file.read()\n",
    "    \n",
    "    # Regular expression to extract subtitle text from the SRT file\n",
    "    subtitle_blocks = re.findall(r'\\d+\\n(.*?)(?=\\n\\d+|$)', content, re.DOTALL)\n",
    "    \n",
    "    braille_subtitles = []\n",
    "    \n",
    "    for block in subtitle_blocks:\n",
    "        # Remove timestamps and extra whitespace\n",
    "        text = re.sub(r'\\d{2}:\\d{2}:\\d{2},\\d{3}', '', block).strip()\n",
    "        braille_text = convert_to_braille(text)\n",
    "        braille_subtitles.append(braille_text)\n",
    "    \n",
    "    return '\\n'.join(braille_subtitles)\n",
    "\n",
    "def save_braille_output(output_file, braille_text):\n",
    "    \"\"\"\n",
    "    Saves the Braille text to an output file.\n",
    "    \"\"\"\n",
    "    with open(output_file, 'w', encoding='utf-8') as file:\n",
    "        file.write(braille_text)\n",
    "\n",
    "# Example usage\n",
    "input_srt_file = r\"output_subtitles_advanced.srt\"  # Path to your SRT file\n",
    "output_braille_file = 'braille_output.txt'  # Output file to store Braille text\n",
    "\n",
    "braille_text = process_srt_file(input_srt_file)\n",
    "save_braille_output(output_braille_file, braille_text)\n",
    "\n",
    "print(\"Conversion complete! Braille text saved to:\", output_braille_file)\n"
   ]
  }
 ],
 "metadata": {
  "kernelspec": {
   "display_name": "Python 3",
   "language": "python",
   "name": "python3"
  },
  "language_info": {
   "codemirror_mode": {
    "name": "ipython",
    "version": 3
   },
   "file_extension": ".py",
   "mimetype": "text/x-python",
   "name": "python",
   "nbconvert_exporter": "python",
   "pygments_lexer": "ipython3",
   "version": "3.12.7"
  }
 },
 "nbformat": 4,
 "nbformat_minor": 2
}
